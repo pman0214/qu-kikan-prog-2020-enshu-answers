{
 "cells": [
  {
   "cell_type": "markdown",
   "metadata": {
    "colab_type": "text",
    "id": "DfXEzI6F4sjY"
   },
   "source": [
    "## 演習問題"
   ]
  },
  {
   "cell_type": "code",
   "execution_count": null,
   "metadata": {
    "colab": {},
    "colab_type": "code",
    "id": "NHNZ86kPZhlM"
   },
   "outputs": [],
   "source": [
    "# モザイクのブロックサイズ\n",
    "block_size = 10"
   ]
  },
  {
   "cell_type": "code",
   "execution_count": null,
   "metadata": {
    "colab": {
     "base_uri": "https://localhost:8080/",
     "height": 102
    },
    "colab_type": "code",
    "executionInfo": {
     "elapsed": 686,
     "status": "ok",
     "timestamp": 1586846828392,
     "user": {
      "displayName": "Shigemi Ishida",
      "photoUrl": "",
      "userId": "02742666860524119242"
     },
     "user_tz": -540
    },
    "id": "P-vbMojrZxKz",
    "outputId": "3f9866df-8344-4fc2-ac3f-f10560c33f2f"
   },
   "outputs": [
    {
     "name": "stdout",
     "output_type": "stream",
     "text": [
      "画像サイズ: 800x500\n",
      "block_size=10\n",
      "モザイクブロック\n",
      " 横:80ブロック\n",
      " 縦:50ブロック\n"
     ]
    }
   ],
   "source": [
    "img_size_x = 800\n",
    "img_size_y = 500\n",
    "print(\"画像サイズ: {}x{}\".format(img_size_x, img_size_y))\n",
    "print(\"block_size={}\".format(block_size))\n",
    "print(\"モザイクブロック\\n 横:{:d}ブロック\\n 縦:{:d}ブロック\".format(int(img_size_x/block_size), int(img_size_y/block_size)))"
   ]
  },
  {
   "cell_type": "markdown",
   "metadata": {
    "colab_type": "text",
    "id": "k48h8MSM4ddz"
   },
   "source": [
    "## 発展問題"
   ]
  },
  {
   "cell_type": "markdown",
   "metadata": {
    "colab_type": "text",
    "id": "O7mO3y3-4nQ5"
   },
   "source": [
    "### 例1"
   ]
  },
  {
   "cell_type": "code",
   "execution_count": null,
   "metadata": {
    "colab": {
     "base_uri": "https://localhost:8080/",
     "height": 136
    },
    "colab_type": "code",
    "executionInfo": {
     "elapsed": 634,
     "status": "ok",
     "timestamp": 1586846939422,
     "user": {
      "displayName": "Shigemi Ishida",
      "photoUrl": "",
      "userId": "02742666860524119242"
     },
     "user_tz": -540
    },
    "id": "cezxagpyZ8uW",
    "outputId": "9966dd5b-1052-43de-98ee-741f4d28f242"
   },
   "outputs": [
    {
     "name": "stdout",
     "output_type": "stream",
     "text": [
      "画像サイズ: 800x500\n",
      "block_size=10\n",
      "モザイクブロック\n",
      " 横:80ブロック\n",
      " 縦:50ブロック\n",
      " 横の余り:なし\n",
      " 縦の余り:なし\n"
     ]
    }
   ],
   "source": [
    "img_size_x = 800\n",
    "img_size_y = 500\n",
    "print(\"画像サイズ: {}x{}\".format(img_size_x, img_size_y))\n",
    "print(\"block_size={}\".format(block_size))\n",
    "print(\"モザイクブロック\\n 横:{}ブロック\\n 縦:{}ブロック\".format(int(img_size_x/block_size), int(img_size_y/block_size)))\n",
    "\n",
    "block_end_x = img_size_x % block_size\n",
    "block_end_y = img_size_y % block_size\n",
    "if block_end_x == 0:\n",
    "  print(\" 横の余り:なし\")\n",
    "else:\n",
    "  print(\" 横の余り:{}ピクセル\".format(block_end_x))\n",
    "if block_end_y == 0:\n",
    "  print(\" 縦の余り:なし\")\n",
    "else:\n",
    "  print(\" 縦の余り:{}ピクセル\".format(block_end_y))"
   ]
  },
  {
   "cell_type": "markdown",
   "metadata": {
    "colab_type": "text",
    "id": "wkNLYEQi4pkU"
   },
   "source": [
    "### 例2"
   ]
  },
  {
   "cell_type": "code",
   "execution_count": null,
   "metadata": {
    "colab": {
     "base_uri": "https://localhost:8080/",
     "height": 136
    },
    "colab_type": "code",
    "executionInfo": {
     "elapsed": 674,
     "status": "ok",
     "timestamp": 1586846951871,
     "user": {
      "displayName": "Shigemi Ishida",
      "photoUrl": "",
      "userId": "02742666860524119242"
     },
     "user_tz": -540
    },
    "id": "7WymaCpkcGLD",
    "outputId": "0d104436-f7f8-459e-d4b5-91437bd3db40"
   },
   "outputs": [
    {
     "name": "stdout",
     "output_type": "stream",
     "text": [
      "画像サイズ: 812x508\n",
      "block_size=10\n",
      "モザイクブロック\n",
      " 横:81ブロック\n",
      " 縦:50ブロック\n",
      " 横の余り:2ピクセル\n",
      " 縦の余り:8ピクセル\n"
     ]
    }
   ],
   "source": [
    "img_size_x = 812\n",
    "img_size_y = 508\n",
    "print(\"画像サイズ: {}x{}\".format(img_size_x, img_size_y))\n",
    "print(\"block_size={}\".format(block_size))\n",
    "print(\"モザイクブロック\\n 横:{}ブロック\\n 縦:{}ブロック\".format(int(img_size_x/block_size), int(img_size_y/block_size)))\n",
    "\n",
    "block_end_x = img_size_x % block_size\n",
    "block_end_y = img_size_y % block_size\n",
    "if block_end_x == 0:\n",
    "  print(\" 横の余り:なし\")\n",
    "else:\n",
    "  print(\" 横の余り:{}ピクセル\".format(block_end_x))\n",
    "if block_end_y == 0:\n",
    "  print(\" 縦の余り:なし\")\n",
    "else:\n",
    "  print(\" 縦の余り:{}ピクセル\".format(block_end_y))"
   ]
  },
  {
   "cell_type": "code",
   "execution_count": null,
   "metadata": {
    "colab": {},
    "colab_type": "code",
    "id": "HP5HvGGxcuZc"
   },
   "outputs": [],
   "source": []
  }
 ],
 "metadata": {
  "colab": {
   "authorship_tag": "ABX9TyMhLdzeAJ7vfyTbNx/Z+CSM",
   "collapsed_sections": [],
   "name": "exe02.ipynb",
   "provenance": []
  },
  "kernelspec": {
   "display_name": "Python 3",
   "language": "python",
   "name": "python3"
  },
  "language_info": {
   "codemirror_mode": {
    "name": "ipython",
    "version": 3
   },
   "file_extension": ".py",
   "mimetype": "text/x-python",
   "name": "python",
   "nbconvert_exporter": "python",
   "pygments_lexer": "ipython3",
   "version": "3.6.9"
  }
 },
 "nbformat": 4,
 "nbformat_minor": 4
}
