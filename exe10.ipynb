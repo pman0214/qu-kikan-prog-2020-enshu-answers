{
 "cells": [
  {
   "cell_type": "markdown",
   "metadata": {},
   "source": [
    "## 演習問題"
   ]
  },
  {
   "cell_type": "markdown",
   "metadata": {},
   "source": [
    "### 画像サイズ"
   ]
  },
  {
   "cell_type": "code",
   "execution_count": 1,
   "metadata": {},
   "outputs": [
    {
     "name": "stdin",
     "output_type": "stream",
     "text": [
      "画像サイズを入力してください:  -10 1\n",
      "画像サイズが不正です。もう一度入力してください:  10 -10\n",
      "画像サイズが不正です。もう一度入力してください:  0 10\n",
      "画像サイズが不正です。もう一度入力してください:  10 0\n",
      "画像サイズが不正です。もう一度入力してください:  200 500\n"
     ]
    }
   ],
   "source": [
    "input_msg = \"画像サイズを入力してください: \"\n",
    "while True:\n",
    "    img_size_str = input(input_msg)\n",
    "    # 次回以降の入力はエラーのときなのでメッセージを更新\n",
    "    input_msg = \"画像サイズが不正です。もう一度入力してください: \"\n",
    "    # 画像サイズを' 'で分解\n",
    "    img_size_str = img_size_str.split(\" \")\n",
    "\n",
    "    # 画像サイズをチェック\n",
    "    if len(img_size_str) != 2:\n",
    "        # エラーのときはwhileの先頭に戻る\n",
    "        continue\n",
    "\n",
    "    # numpyを使って数字であるかどうかをチェック\n",
    "    import numpy as np\n",
    "    if not all(np.char.isnumeric(img_size_str)):\n",
    "        continue\n",
    "\n",
    "    img_size = np.array(list(map(int, img_size_str)))\n",
    "    if not all(img_size > 0):\n",
    "        continue\n",
    "    break"
   ]
  },
  {
   "cell_type": "markdown",
   "metadata": {},
   "source": [
    "### ブロックサイズ"
   ]
  },
  {
   "cell_type": "code",
   "execution_count": 2,
   "metadata": {},
   "outputs": [
    {
     "name": "stdin",
     "output_type": "stream",
     "text": [
      "block_sizeを入力してください:  -10\n",
      "block_sizeが不正です。もう一度入力してください:  0\n",
      "block_sizeが不正です。もう一度入力してください:  10\n"
     ]
    },
    {
     "name": "stdout",
     "output_type": "stream",
     "text": [
      "画像サイズ: 200x500、block_size: 10\n"
     ]
    }
   ],
   "source": [
    "input_msg = \"block_sizeを入力してください: \"\n",
    "while True:\n",
    "    block_size_str = input(input_msg)\n",
    "    # 次回以降の入力はエラーのときなのでメッセージを更新\n",
    "    input_msg = \"block_sizeが不正です。もう一度入力してください: \"\n",
    "    \n",
    "    if not np.char.isnumeric(block_size_str):\n",
    "        continue\n",
    "\n",
    "    if int(block_size_str) <= 0:\n",
    "        continue\n",
    "\n",
    "    block_size = int(block_size_str)\n",
    "    break\n",
    "\n",
    "print(\"画像サイズ: {0[0]}x{0[1]}、block_size: {1}\".format(img_size, block_size))"
   ]
  },
  {
   "cell_type": "markdown",
   "metadata": {},
   "source": [
    "### ズルく見えるので、関数化してまとめて実行します"
   ]
  },
  {
   "cell_type": "code",
   "execution_count": 3,
   "metadata": {},
   "outputs": [],
   "source": [
    "def input_img_block_size():\n",
    "    input_msg = \"画像サイズを入力してください: \"\n",
    "    while True:\n",
    "        img_size_str = input(input_msg)\n",
    "        # 次回以降の入力はエラーのときなのでメッセージを更新\n",
    "        input_msg = \"画像サイズが不正です。もう一度入力してください: \"\n",
    "        # 画像サイズを' 'で分解\n",
    "        img_size_str = img_size_str.split(\" \")\n",
    "\n",
    "        # 画像サイズをチェック\n",
    "        if len(img_size_str) != 2:\n",
    "            # エラーのときはwhileの先頭に戻る\n",
    "            continue\n",
    "\n",
    "        # numpyを使って数字であるかどうかをチェック\n",
    "        import numpy as np\n",
    "        if not all(np.char.isnumeric(img_size_str)):\n",
    "            continue\n",
    "\n",
    "        img_size = np.array(list(map(int, img_size_str)))\n",
    "        if not all(img_size > 0):\n",
    "            continue\n",
    "        break\n",
    "\n",
    "    input_msg = \"block_sizeを入力してください: \"\n",
    "    while True:\n",
    "        block_size_str = input(input_msg)\n",
    "        # 次回以降の入力はエラーのときなのでメッセージを更新\n",
    "        input_msg = \"block_sizeが不正です。もう一度入力してください: \"\n",
    "\n",
    "        if not np.char.isnumeric(block_size_str):\n",
    "            continue\n",
    "\n",
    "        if int(block_size_str) <= 0:\n",
    "            continue\n",
    "\n",
    "        block_size = int(block_size_str)\n",
    "        break\n",
    "\n",
    "    print(\"画像サイズ: {0[0]}x{0[1]}、block_size: {1}\".format(img_size, block_size))"
   ]
  },
  {
   "cell_type": "code",
   "execution_count": 4,
   "metadata": {},
   "outputs": [
    {
     "name": "stdin",
     "output_type": "stream",
     "text": [
      "画像サイズを入力してください:  -10 1\n",
      "画像サイズが不正です。もう一度入力してください:  10 -10\n",
      "画像サイズが不正です。もう一度入力してください:  0 10\n",
      "画像サイズが不正です。もう一度入力してください:  10 0\n",
      "画像サイズが不正です。もう一度入力してください:  200 500\n",
      "block_sizeを入力してください:  -10\n",
      "block_sizeが不正です。もう一度入力してください:  0\n",
      "block_sizeが不正です。もう一度入力してください:  10\n"
     ]
    },
    {
     "name": "stdout",
     "output_type": "stream",
     "text": [
      "画像サイズ: 200x500、block_size: 10\n"
     ]
    }
   ],
   "source": [
    "input_img_block_size()"
   ]
  },
  {
   "cell_type": "code",
   "execution_count": 5,
   "metadata": {},
   "outputs": [
    {
     "name": "stdin",
     "output_type": "stream",
     "text": [
      "画像サイズを入力してください:  -10 1\n",
      "画像サイズが不正です。もう一度入力してください:  abc\n",
      "画像サイズが不正です。もう一度入力してください:  def hij\n",
      "画像サイズが不正です。もう一度入力してください:  200 50ab\n",
      "画像サイズが不正です。もう一度入力してください:  20abc 20bc\n",
      "画像サイズが不正です。もう一度入力してください:  200 500\n",
      "block_sizeを入力してください:  10ab\n",
      "block_sizeが不正です。もう一度入力してください:  abc\n",
      "block_sizeが不正です。もう一度入力してください:  10 20\n",
      "block_sizeが不正です。もう一度入力してください:  10 \n",
      "block_sizeが不正です。もう一度入力してください:  10\n"
     ]
    },
    {
     "name": "stdout",
     "output_type": "stream",
     "text": [
      "画像サイズ: 200x500、block_size: 10\n"
     ]
    }
   ],
   "source": [
    "input_img_block_size()"
   ]
  },
  {
   "cell_type": "markdown",
   "metadata": {},
   "source": [
    "## 発展問題\n",
    "見づらいので関数化してから実行してます"
   ]
  },
  {
   "cell_type": "code",
   "execution_count": 6,
   "metadata": {},
   "outputs": [],
   "source": [
    "def input_img_block_size_max_trial(repeat=3):\n",
    "    input_msg = \"画像サイズを入力してください: \"\n",
    "    on_error = True\n",
    "    for i in range(repeat+1):\n",
    "        img_size = None\n",
    "        img_size_str = input(input_msg)\n",
    "        # 次回以降の入力はエラーのときなのでメッセージを更新\n",
    "        input_msg = \"画像サイズが不正です。もう一度入力してください: \"\n",
    "        # 画像サイズを' 'で分解\n",
    "        img_size_str = img_size_str.split(\" \")\n",
    "\n",
    "        # 画像サイズをチェック\n",
    "        if len(img_size_str) != 2:\n",
    "            # エラーのときはwhileの先頭に戻る\n",
    "            continue\n",
    "\n",
    "        # numpyを使って数字であるかどうかをチェック\n",
    "        import numpy as np\n",
    "        if not all(np.char.isnumeric(img_size_str)):\n",
    "            continue\n",
    "\n",
    "        img_size = np.array(list(map(int, img_size_str)))\n",
    "        if not all(img_size > 0):\n",
    "            continue\n",
    "\n",
    "        # ここまでくれば正しいのでerrorフラグをクリア\n",
    "        on_error = False\n",
    "        # for文を抜ける\n",
    "        break\n",
    "\n",
    "    if on_error:\n",
    "        print(\"画像サイズが不正です。終了します。\")\n",
    "\n",
    "    input_msg = \"block_sizeを入力してください: \"\n",
    "    if not on_error:\n",
    "        for i in range(repeat+1):\n",
    "            block_size_str = input(input_msg)\n",
    "            # 次回以降の入力はエラーのときなのでメッセージを更新\n",
    "            input_msg = \"block_sizeが不正です。もう一度入力してください: \"\n",
    "\n",
    "            if not np.char.isnumeric(block_size_str):\n",
    "                on_error = True\n",
    "                continue\n",
    "\n",
    "            if int(block_size_str) <= 0:\n",
    "                on_error = True\n",
    "                continue\n",
    "\n",
    "            # ここまでくれば正しいのでerrorフラグをクリア\n",
    "            on_error = False\n",
    "            # intに変換してfor文を抜ける\n",
    "            block_size = int(block_size_str)\n",
    "            break\n",
    "\n",
    "        if on_error:\n",
    "            print(\"block_sizeが不正です。終了します。\")\n",
    "        else:\n",
    "            print(\"画像サイズ: {0[0]}x{0[1]}、block_size: {1}\".format(img_size, block_size))"
   ]
  },
  {
   "cell_type": "code",
   "execution_count": 7,
   "metadata": {},
   "outputs": [
    {
     "name": "stdin",
     "output_type": "stream",
     "text": [
      "画像サイズを入力してください:  0 10\n",
      "画像サイズが不正です。もう一度入力してください:  10 0\n",
      "画像サイズが不正です。もう一度入力してください:  -1 10\n",
      "画像サイズが不正です。もう一度入力してください:  10 -10\n"
     ]
    },
    {
     "name": "stdout",
     "output_type": "stream",
     "text": [
      "画像サイズが不正です。終了します。\n"
     ]
    }
   ],
   "source": [
    "input_img_block_size_max_trial()"
   ]
  },
  {
   "cell_type": "code",
   "execution_count": 8,
   "metadata": {},
   "outputs": [
    {
     "name": "stdin",
     "output_type": "stream",
     "text": [
      "画像サイズを入力してください:  200 200\n",
      "block_sizeを入力してください:  0\n",
      "block_sizeが不正です。もう一度入力してください:  -10\n",
      "block_sizeが不正です。もう一度入力してください:  -20\n",
      "block_sizeが不正です。もう一度入力してください:  -100\n"
     ]
    },
    {
     "name": "stdout",
     "output_type": "stream",
     "text": [
      "block_sizeが不正です。終了します。\n"
     ]
    }
   ],
   "source": [
    "input_img_block_size_max_trial()"
   ]
  },
  {
   "cell_type": "code",
   "execution_count": 9,
   "metadata": {},
   "outputs": [
    {
     "name": "stdin",
     "output_type": "stream",
     "text": [
      "画像サイズを入力してください:  200 200\n",
      "block_sizeを入力してください:  10\n"
     ]
    },
    {
     "name": "stdout",
     "output_type": "stream",
     "text": [
      "画像サイズ: 200x200、block_size: 10\n"
     ]
    }
   ],
   "source": [
    "input_img_block_size_max_trial()"
   ]
  },
  {
   "cell_type": "code",
   "execution_count": 10,
   "metadata": {},
   "outputs": [
    {
     "name": "stdin",
     "output_type": "stream",
     "text": [
      "画像サイズを入力してください:  200 abc\n",
      "画像サイズが不正です。もう一度入力してください:  def hij\n",
      "画像サイズが不正です。もう一度入力してください:  205j 200j\n",
      "画像サイズが不正です。もう一度入力してください:  200 500\n",
      "block_sizeを入力してください:  -10\n",
      "block_sizeが不正です。もう一度入力してください:  10 abc\n",
      "block_sizeが不正です。もう一度入力してください:  10abc\n",
      "block_sizeが不正です。もう一度入力してください:  10\n"
     ]
    },
    {
     "name": "stdout",
     "output_type": "stream",
     "text": [
      "画像サイズ: 200x500、block_size: 10\n"
     ]
    }
   ],
   "source": [
    "input_img_block_size_max_trial()"
   ]
  },
  {
   "cell_type": "markdown",
   "metadata": {},
   "source": [
    "### 関数を使うとfor文やif文のネストを減らせます\n",
    "処理が必要なくなったらreturnすればOKです。\n",
    "一般に、関数はprintではなくreturnして値を返すので、実際にプログラムを書くときにはreturn値でエラーが分かるようにしておきます。"
   ]
  },
  {
   "cell_type": "code",
   "execution_count": 13,
   "metadata": {},
   "outputs": [],
   "source": [
    "def input_img_block_size_max_trial_w_return(repeat=3):\n",
    "    input_msg = \"画像サイズを入力してください: \"\n",
    "    on_error = True\n",
    "    for i in range(repeat+1):\n",
    "        img_size = None\n",
    "        img_size_str = input(input_msg)\n",
    "        # 次回以降の入力はエラーのときなのでメッセージを更新\n",
    "        input_msg = \"画像サイズが不正です。もう一度入力してください: \"\n",
    "        # 画像サイズを' 'で分解\n",
    "        img_size_str = img_size_str.split(\" \")\n",
    "\n",
    "        # 画像サイズをチェック\n",
    "        if len(img_size_str) != 2:\n",
    "            # エラーのときはwhileの先頭に戻る\n",
    "            continue\n",
    "\n",
    "        # numpyを使って数字であるかどうかをチェック\n",
    "        import numpy as np\n",
    "        if not all(np.char.isnumeric(img_size_str)):\n",
    "            continue\n",
    "\n",
    "        img_size = np.array(list(map(int, img_size_str)))\n",
    "        if not all(img_size > 0):\n",
    "            continue\n",
    "\n",
    "        # ここまでくれば正しいのでerrorフラグをクリア\n",
    "        on_error = False\n",
    "        # for文を抜ける\n",
    "        break\n",
    "\n",
    "    if on_error:\n",
    "        print(\"画像サイズが不正です。終了します。\")\n",
    "        # エラーのときはNoneを返却\n",
    "        return None\n",
    "\n",
    "    input_msg = \"block_sizeを入力してください: \"\n",
    "    for i in range(repeat+1):\n",
    "        block_size_str = input(input_msg)\n",
    "        # 次回以降の入力はエラーのときなのでメッセージを更新\n",
    "        input_msg = \"block_sizeが不正です。もう一度入力してください: \"\n",
    "\n",
    "        if not np.char.isnumeric(block_size_str):\n",
    "            on_error = True\n",
    "            continue\n",
    "\n",
    "        if int(block_size_str) <= 0:\n",
    "            on_error = True\n",
    "            continue\n",
    "\n",
    "        # ここまでくれば正しいのでerrorフラグをクリア\n",
    "        on_error = False\n",
    "        # intに変換してfor文を抜ける\n",
    "        block_size = int(block_size_str)\n",
    "        break\n",
    "\n",
    "    if on_error:\n",
    "        print(\"block_sizeが不正です。終了します。\")\n",
    "        return None\n",
    "\n",
    "    # うまく処理できたときだけ、tupleでimg_sizeとblock_sizeを返却\n",
    "    return (img_size, block_size)"
   ]
  },
  {
   "cell_type": "code",
   "execution_count": 14,
   "metadata": {},
   "outputs": [
    {
     "name": "stdin",
     "output_type": "stream",
     "text": [
      "画像サイズを入力してください:  0 10\n",
      "画像サイズが不正です。もう一度入力してください:  10 0\n",
      "画像サイズが不正です。もう一度入力してください:  -1 10\n",
      "画像サイズが不正です。もう一度入力してください:  10 -10\n"
     ]
    },
    {
     "name": "stdout",
     "output_type": "stream",
     "text": [
      "画像サイズが不正です。終了します。\n"
     ]
    }
   ],
   "source": [
    "ret = input_img_block_size_max_trial_w_return()\n",
    "if ret is not None:\n",
    "    print(\"画像サイズ: {0[0]}x{0[1]}、block_size: {1}\".format(ret[0], ret[1]))"
   ]
  },
  {
   "cell_type": "code",
   "execution_count": 15,
   "metadata": {},
   "outputs": [
    {
     "name": "stdin",
     "output_type": "stream",
     "text": [
      "画像サイズを入力してください:  200 200\n",
      "block_sizeを入力してください:  0\n",
      "block_sizeが不正です。もう一度入力してください:  -10\n",
      "block_sizeが不正です。もう一度入力してください:  -20\n",
      "block_sizeが不正です。もう一度入力してください:  -100\n"
     ]
    },
    {
     "name": "stdout",
     "output_type": "stream",
     "text": [
      "block_sizeが不正です。終了します。\n"
     ]
    }
   ],
   "source": [
    "ret = input_img_block_size_max_trial_w_return()\n",
    "if ret is not None:\n",
    "    print(\"画像サイズ: {0[0]}x{0[1]}、block_size: {1}\".format(ret[0], ret[1]))"
   ]
  },
  {
   "cell_type": "code",
   "execution_count": 16,
   "metadata": {},
   "outputs": [
    {
     "name": "stdin",
     "output_type": "stream",
     "text": [
      "画像サイズを入力してください:  200 200\n",
      "block_sizeを入力してください:  10\n"
     ]
    },
    {
     "name": "stdout",
     "output_type": "stream",
     "text": [
      "画像サイズ: 200x200、block_size: 10\n"
     ]
    }
   ],
   "source": [
    "ret = input_img_block_size_max_trial_w_return()\n",
    "if ret is not None:\n",
    "    print(\"画像サイズ: {0[0]}x{0[1]}、block_size: {1}\".format(ret[0], ret[1]))"
   ]
  }
 ],
 "metadata": {
  "kernelspec": {
   "display_name": "Python 3",
   "language": "python",
   "name": "python3"
  },
  "language_info": {
   "codemirror_mode": {
    "name": "ipython",
    "version": 3
   },
   "file_extension": ".py",
   "mimetype": "text/x-python",
   "name": "python",
   "nbconvert_exporter": "python",
   "pygments_lexer": "ipython3",
   "version": "3.8.5"
  }
 },
 "nbformat": 4,
 "nbformat_minor": 4
}
