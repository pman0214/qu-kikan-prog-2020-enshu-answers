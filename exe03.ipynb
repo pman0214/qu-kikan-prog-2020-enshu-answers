{
 "cells": [
  {
   "cell_type": "markdown",
   "metadata": {
    "colab_type": "text",
    "id": "3FiRsZp845D4"
   },
   "source": [
    "# 演習問題\n",
    "## exe03-1.ipynb\n",
    "\n",
    "* 画像ファイル名をキーボードから入力し，以下のルールで出力ファイル名を作成して表示せよ\n",
    "  * 入力: hoge.ppm → 出力: hoge_pixelized.ppm"
   ]
  },
  {
   "cell_type": "markdown",
   "metadata": {
    "colab_type": "text",
    "id": "wkNLYEQi4pkU"
   },
   "source": [
    "### 実行例1"
   ]
  },
  {
   "cell_type": "code",
   "execution_count": 1,
   "metadata": {
    "colab": {
     "base_uri": "https://localhost:8080/",
     "height": 68
    },
    "colab_type": "code",
    "executionInfo": {
     "elapsed": 5161,
     "status": "ok",
     "timestamp": 1586922158632,
     "user": {
      "displayName": "Shigemi Ishida",
      "photoUrl": "",
      "userId": "02742666860524119242"
     },
     "user_tz": -540
    },
    "id": "7uLjnRsy49Rt",
    "outputId": "4770d29c-874c-4b1f-9ea0-78e9a7c56871"
   },
   "outputs": [
    {
     "name": "stdin",
     "output_type": "stream",
     "text": [
      "入力画像ファイル名は？:  hoge.ppm\n"
     ]
    },
    {
     "name": "stdout",
     "output_type": "stream",
     "text": [
      "入力ファイル名: hoge.ppm\n",
      "出力ファイル名: hoge_pixelized.ppm\n"
     ]
    }
   ],
   "source": [
    "infile = input(\"入力画像ファイル名は？: \") \n",
    "\n",
    "import os\n",
    "out_base, out_ext = os.path.splitext(infile)\n",
    "outfile = out_base + \"_pixelized\" + out_ext\n",
    "\n",
    "print(\"入力ファイル名: \" + infile)\n",
    "print(\"出力ファイル名: \" + outfile)"
   ]
  },
  {
   "cell_type": "markdown",
   "metadata": {
    "colab_type": "text",
    "id": "wkNLYEQi4pkU"
   },
   "source": [
    "### 実行例2"
   ]
  },
  {
   "cell_type": "code",
   "execution_count": 2,
   "metadata": {
    "colab": {
     "base_uri": "https://localhost:8080/",
     "height": 68
    },
    "colab_type": "code",
    "executionInfo": {
     "elapsed": 5161,
     "status": "ok",
     "timestamp": 1586922158632,
     "user": {
      "displayName": "Shigemi Ishida",
      "photoUrl": "",
      "userId": "02742666860524119242"
     },
     "user_tz": -540
    },
    "id": "7uLjnRsy49Rt",
    "outputId": "4770d29c-874c-4b1f-9ea0-78e9a7c56871"
   },
   "outputs": [
    {
     "name": "stdin",
     "output_type": "stream",
     "text": [
      "入力画像ファイル名は？:  hoge hoge.jpeg\n"
     ]
    },
    {
     "name": "stdout",
     "output_type": "stream",
     "text": [
      "入力ファイル名: hoge hoge.jpeg\n",
      "出力ファイル名: hoge hoge_pixelized.jpeg\n"
     ]
    }
   ],
   "source": [
    "infile = input(\"入力画像ファイル名は？: \") \n",
    "\n",
    "import os\n",
    "out_base, out_ext = os.path.splitext(infile)\n",
    "outfile = out_base + \"_pixelized\" + out_ext\n",
    "\n",
    "print(\"入力ファイル名: \" + infile)\n",
    "print(\"出力ファイル名: \" + outfile)"
   ]
  },
  {
   "cell_type": "markdown",
   "metadata": {
    "colab_type": "text",
    "id": "ifI1_mCT4-GD"
   },
   "source": [
    "# 発展問題\n",
    "## exe03-2.ipynb\n",
    "* 画像ファイル名として入力された文字列がディレクトリ名を含む場合に，パスを含むディレクトリ名とファイル名に分解して表示せよ"
   ]
  },
  {
   "cell_type": "markdown",
   "metadata": {
    "colab_type": "text",
    "id": "wkNLYEQi4pkU"
   },
   "source": [
    "### 実行例1"
   ]
  },
  {
   "cell_type": "code",
   "execution_count": 3,
   "metadata": {
    "colab": {
     "base_uri": "https://localhost:8080/",
     "height": 85
    },
    "colab_type": "code",
    "executionInfo": {
     "elapsed": 41213,
     "status": "ok",
     "timestamp": 1586922548581,
     "user": {
      "displayName": "Shigemi Ishida",
      "photoUrl": "",
      "userId": "02742666860524119242"
     },
     "user_tz": -540
    },
    "id": "GZXct6zs7Y_s",
    "outputId": "43a2f3fc-0a31-4be2-b5e5-39c5bf535f6e"
   },
   "outputs": [
    {
     "name": "stdin",
     "output_type": "stream",
     "text": [
      "入力画像ファイルは？:  ~/Pictures/resources/nanki_shirahama_750_550.ppm\n"
     ]
    },
    {
     "name": "stdout",
     "output_type": "stream",
     "text": [
      "入力ファイル フルパス: ~/Pictures/resources/nanki_shirahama_750_550.ppm\n",
      "入力ファイルの場所: ~/Pictures/resources\n",
      "入力ファイル名: nanki_shirahama_750_550.ppm\n"
     ]
    }
   ],
   "source": [
    "infile = input(\"入力画像ファイルは？: \")\n",
    "\n",
    "import os\n",
    "in_path, in_file = os.path.split(infile)\n",
    "\n",
    "print(\"入力ファイル フルパス: \" + infile)\n",
    "print(\"入力ファイルの場所: \" + in_path)\n",
    "print(\"入力ファイル名: \" + in_file)"
   ]
  },
  {
   "cell_type": "markdown",
   "metadata": {
    "colab_type": "text",
    "id": "wkNLYEQi4pkU"
   },
   "source": [
    "### 実行例2"
   ]
  },
  {
   "cell_type": "code",
   "execution_count": 4,
   "metadata": {
    "colab": {
     "base_uri": "https://localhost:8080/",
     "height": 85
    },
    "colab_type": "code",
    "executionInfo": {
     "elapsed": 41213,
     "status": "ok",
     "timestamp": 1586922548581,
     "user": {
      "displayName": "Shigemi Ishida",
      "photoUrl": "",
      "userId": "02742666860524119242"
     },
     "user_tz": -540
    },
    "id": "GZXct6zs7Y_s",
    "outputId": "43a2f3fc-0a31-4be2-b5e5-39c5bf535f6e"
   },
   "outputs": [
    {
     "name": "stdin",
     "output_type": "stream",
     "text": [
      "入力画像ファイルは？:  ~/Pictures/resource/nanki shirahama 750 550.jpeg\n"
     ]
    },
    {
     "name": "stdout",
     "output_type": "stream",
     "text": [
      "入力ファイル フルパス: ~/Pictures/resource/nanki shirahama 750 550.jpeg\n",
      "入力ファイルの場所: ~/Pictures/resource\n",
      "入力ファイル名: nanki shirahama 750 550.jpeg\n"
     ]
    }
   ],
   "source": [
    "infile = input(\"入力画像ファイルは？: \")\n",
    "\n",
    "import os\n",
    "in_path, in_file = os.path.split(infile)\n",
    "\n",
    "print(\"入力ファイル フルパス: \" + infile)\n",
    "print(\"入力ファイルの場所: \" + in_path)\n",
    "print(\"入力ファイル名: \" + in_file)"
   ]
  }
 ],
 "metadata": {
  "colab": {
   "authorship_tag": "ABX9TyPnj6qM+PPH2iBxDoRpcqky",
   "collapsed_sections": [],
   "name": "exe03.ipynb",
   "provenance": []
  },
  "kernelspec": {
   "display_name": "Python 3",
   "language": "python",
   "name": "python3"
  },
  "language_info": {
   "codemirror_mode": {
    "name": "ipython",
    "version": 3
   },
   "file_extension": ".py",
   "mimetype": "text/x-python",
   "name": "python",
   "nbconvert_exporter": "python",
   "pygments_lexer": "ipython3",
   "version": "3.6.9"
  }
 },
 "nbformat": 4,
 "nbformat_minor": 4
}
