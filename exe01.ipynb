{
 "cells": [
  {
   "cell_type": "markdown",
   "metadata": {},
   "source": [
    "# 演習問題\n",
    "## exe01-1.ipynb\n",
    "\n",
    "* print文を使ってプログラム名 (Mosaic Generagor) とバージョン (0.1)を表示するプログラムを作成せよ"
   ]
  },
  {
   "cell_type": "code",
   "execution_count": 1,
   "metadata": {
    "colab": {
     "base_uri": "https://localhost:8080/",
     "height": 34
    },
    "colab_type": "code",
    "executionInfo": {
     "elapsed": 677,
     "status": "ok",
     "timestamp": 1586766814191,
     "user": {
      "displayName": "Shigemi Ishida",
      "photoUrl": "",
      "userId": "02742666860524119242"
     },
     "user_tz": -540
    },
    "id": "6cVp--Wfq951",
    "outputId": "3549e119-ff47-4ac0-89bc-a390b18959ca"
   },
   "outputs": [
    {
     "name": "stdout",
     "output_type": "stream",
     "text": [
      "Mosaic Generator ver. 0.1\n"
     ]
    }
   ],
   "source": [
    "print('Mosaic Generator ver. 0.1')"
   ]
  },
  {
   "cell_type": "markdown",
   "metadata": {},
   "source": [
    "# 発展問題\n",
    "## exe01-2.ipynb\n",
    "\n",
    "* 上記を修正し，以下の文のように変数で指定されたバージョンを表示するように修正せよ\n",
    "* `version = 0.1`"
   ]
  },
  {
   "cell_type": "code",
   "execution_count": 2,
   "metadata": {
    "colab": {
     "base_uri": "https://localhost:8080/",
     "height": 34
    },
    "colab_type": "code",
    "executionInfo": {
     "elapsed": 1570,
     "status": "ok",
     "timestamp": 1594112493099,
     "user": {
      "displayName": "Shigemi Ishida",
      "photoUrl": "",
      "userId": "02742666860524119242"
     },
     "user_tz": -540
    },
    "id": "qNZLyKDUrBj_",
    "outputId": "a3c11903-a549-4010-80b1-2d3442caa65f"
   },
   "outputs": [
    {
     "name": "stdout",
     "output_type": "stream",
     "text": [
      "Mosaic Generator ver. 0.1\n"
     ]
    }
   ],
   "source": [
    "version = 0.1\n",
    "print('Mosaic Generator ver. {}'.format(version))"
   ]
  }
 ],
 "metadata": {
  "colab": {
   "authorship_tag": "ABX9TyN6VW9/jV7Gb2IfCE9FoIsB",
   "collapsed_sections": [],
   "name": "exe01.ipynb",
   "provenance": []
  },
  "kernelspec": {
   "display_name": "Python 3",
   "language": "python",
   "name": "python3"
  },
  "language_info": {
   "codemirror_mode": {
    "name": "ipython",
    "version": 3
   },
   "file_extension": ".py",
   "mimetype": "text/x-python",
   "name": "python",
   "nbconvert_exporter": "python",
   "pygments_lexer": "ipython3",
   "version": "3.6.9"
  }
 },
 "nbformat": 4,
 "nbformat_minor": 4
}
