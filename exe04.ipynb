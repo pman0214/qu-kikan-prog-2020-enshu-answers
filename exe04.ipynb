{
 "cells": [
  {
   "cell_type": "markdown",
   "metadata": {
    "colab_type": "text",
    "id": "UcMbuN8kUO6d"
   },
   "source": [
    "## 演習問題"
   ]
  },
  {
   "cell_type": "code",
   "execution_count": 1,
   "metadata": {
    "colab": {
     "base_uri": "https://localhost:8080/",
     "height": 51
    },
    "colab_type": "code",
    "executionInfo": {
     "elapsed": 3105,
     "status": "ok",
     "timestamp": 1586980735111,
     "user": {
      "displayName": "Shigemi Ishida",
      "photoUrl": "",
      "userId": "02742666860524119242"
     },
     "user_tz": -540
    },
    "id": "FDDkObGfUUlY",
    "outputId": "c81d193e-b18c-462d-f2fc-724c01e73af9"
   },
   "outputs": [
    {
     "name": "stdin",
     "output_type": "stream",
     "text": [
      "英文を入力してください:  A problem is a chance for you to do your best\n"
     ]
    },
    {
     "name": "stdout",
     "output_type": "stream",
     "text": [
      "A problem is a chance for YOU to do YOUR best\n"
     ]
    }
   ],
   "source": [
    "# 強調したい単語\n",
    "emph = ['you', 'your', 'yours']\n",
    "\n",
    "# 英文の入力\n",
    "sentence = input(\"英文を入力してください: \")\n",
    "\n",
    "# 単語に分解\n",
    "words = sentence.split(\" \")\n",
    "\n",
    "# 先頭を大文字にする\n",
    "converted = list(map(lambda x: x.upper() if x in emph else x, words))\n",
    "# for文を使う場合はこうする\n",
    "converted = []\n",
    "for x in words:\n",
    "    if x in emph:\n",
    "        converted.append(x.upper())\n",
    "    else:\n",
    "        converted.append(x)\n",
    "\n",
    "# 連結して元に戻す\n",
    "print(\" \".join(converted))"
   ]
  },
  {
   "cell_type": "markdown",
   "metadata": {
    "colab_type": "text",
    "id": "XjsntBPuUSrz"
   },
   "source": [
    "## 発展問題"
   ]
  },
  {
   "cell_type": "code",
   "execution_count": 2,
   "metadata": {
    "colab": {
     "base_uri": "https://localhost:8080/",
     "height": 255
    },
    "colab_type": "code",
    "executionInfo": {
     "elapsed": 4758,
     "status": "ok",
     "timestamp": 1586982453102,
     "user": {
      "displayName": "Shigemi Ishida",
      "photoUrl": "",
      "userId": "02742666860524119242"
     },
     "user_tz": -540
    },
    "id": "4Q1x3QpmX3-5",
    "outputId": "00dd0f1b-e8e7-4261-ad0f-f88e8d3b2bf4"
   },
   "outputs": [
    {
     "name": "stdin",
     "output_type": "stream",
     "text": [
      "英文を入力してください:  A problem is a chance for you to do your best.\n"
     ]
    },
    {
     "name": "stdout",
     "output_type": "stream",
     "text": [
      "英文の長さ: 46\n",
      "単語の数: 11\n",
      "単語の出現回数:\n",
      " a: 2回\n",
      " problem: 1回\n",
      " is: 1回\n",
      " chance: 1回\n",
      " for: 1回\n",
      " you: 1回\n",
      " to: 1回\n",
      " do: 1回\n",
      " your: 1回\n",
      " best: 1回\n"
     ]
    }
   ],
   "source": [
    "# 英文の入力（全部小文字に変換しておく）\n",
    "sentence = input(\"英文を入力してください: \").lower()\n",
    "\n",
    "# 単語に分解\n",
    "words = sentence.split(\" \")\n",
    "# 空文字は除去\n",
    "excludes = ['']\n",
    "words = list(filter(lambda x: not x in excludes, words))\n",
    "# 区切り文字は除去\n",
    "import re\n",
    "words = list(map(lambda x: re.sub(r'^(.*)[\\.,!?]', r'\\1', x), words))\n",
    "\n",
    "# 単語の出現回数\n",
    "import collections\n",
    "counts = collections.Counter(words)\n",
    "\n",
    "print(\"英文の長さ: {}\".format(len(sentence)))\n",
    "print(\"単語の数: {}\".format(len(words)))\n",
    "print(\"単語の出現回数:\")\n",
    "for k,v in counts.items():\n",
    "    print(\" {}: {}回\".format(k, v))"
   ]
  },
  {
   "cell_type": "code",
   "execution_count": null,
   "metadata": {},
   "outputs": [],
   "source": []
  }
 ],
 "metadata": {
  "colab": {
   "authorship_tag": "ABX9TyMpPla3sTcKruRmBhT4zBxR",
   "collapsed_sections": [],
   "name": "exe04.ipynb",
   "provenance": []
  },
  "kernelspec": {
   "display_name": "Python 3",
   "language": "python",
   "name": "python3"
  },
  "language_info": {
   "codemirror_mode": {
    "name": "ipython",
    "version": 3
   },
   "file_extension": ".py",
   "mimetype": "text/x-python",
   "name": "python",
   "nbconvert_exporter": "python",
   "pygments_lexer": "ipython3",
   "version": "3.7.6"
  }
 },
 "nbformat": 4,
 "nbformat_minor": 4
}
