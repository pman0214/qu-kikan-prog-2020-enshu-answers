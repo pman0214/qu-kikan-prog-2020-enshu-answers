{
 "cells": [
  {
   "cell_type": "markdown",
   "metadata": {
    "colab_type": "text",
    "id": "Bys-I_1DtD1I"
   },
   "source": [
    "## 演習問題"
   ]
  },
  {
   "cell_type": "code",
   "execution_count": 1,
   "metadata": {
    "colab": {
     "base_uri": "https://localhost:8080/",
     "height": 37
    },
    "colab_type": "code",
    "executionInfo": {
     "elapsed": 816,
     "status": "ok",
     "timestamp": 1597202821685,
     "user": {
      "displayName": "Shigemi Ishida",
      "photoUrl": "",
      "userId": "02742666860524119242"
     },
     "user_tz": -540
    },
    "id": "B1TBhnwRtD1J",
    "outputId": "eeffdbe3-bc62-4596-9fad-1e8e2e0b88a5"
   },
   "outputs": [
    {
     "data": {
      "text/plain": [
       "'1.19.1'"
      ]
     },
     "execution_count": 1,
     "metadata": {},
     "output_type": "execute_result"
    }
   ],
   "source": [
    "import numpy as np\n",
    "np.__version__"
   ]
  },
  {
   "cell_type": "code",
   "execution_count": 2,
   "metadata": {
    "colab": {
     "base_uri": "https://localhost:8080/",
     "height": 170
    },
    "colab_type": "code",
    "executionInfo": {
     "elapsed": 810,
     "status": "ok",
     "timestamp": 1597202821686,
     "user": {
      "displayName": "Shigemi Ishida",
      "photoUrl": "",
      "userId": "02742666860524119242"
     },
     "user_tz": -540
    },
    "id": "tqoTFJf6tD1P",
    "outputId": "3956ccab-0f95-44d0-a229-1f677d206274"
   },
   "outputs": [
    {
     "data": {
      "text/plain": [
       "array([[43, 57, 22, 80,  8, 86, 99, 56, 88],\n",
       "       [26, 67, 92, 44, 92,  2,  9, 70,  4],\n",
       "       [62, 18, 95, 23, 54, 54, 84, 64, 23],\n",
       "       [68, 91, 59, 41, 78,  5, 73, 12, 38],\n",
       "       [ 8, 64, 53, 86, 53, 41,  7, 63, 25],\n",
       "       [ 9, 16, 83, 95, 12, 95, 24,  2, 58],\n",
       "       [86, 39,  7, 79, 80, 19, 79, 97, 24],\n",
       "       [51, 85, 28, 57, 56, 17, 74, 87,  4],\n",
       "       [ 8, 66, 59, 15, 48,  8, 77, 92, 58]])"
      ]
     },
     "execution_count": 2,
     "metadata": {},
     "output_type": "execute_result"
    }
   ],
   "source": [
    "matrix = np.array(\n",
    "    [43,    57,     22,     80,     8,      86,     99,     56,     88,\n",
    "    26,     67,     92,     44,     92,     2,      9,      70,     4,\n",
    "    62,     18,     95,     23,     54,     54,     84,     64,     23,\n",
    "    68,     91,     59,     41,     78,     5,      73,     12,     38,\n",
    "    8,      64,     53,     86,     53,     41,     7,      63,     25,\n",
    "    9,      16,     83,     95,     12,     95,     24,     2,      58,\n",
    "    86,     39,     7,      79,     80,     19,     79,     97,     24,\n",
    "    51,     85,     28,     57,     56,     17,     74,     87,     4,\n",
    "    8,      66,     59,     15,     48,     8,      77,     92,     58]\n",
    ").reshape(-1,9)\n",
    "matrix"
   ]
  },
  {
   "cell_type": "code",
   "execution_count": 3,
   "metadata": {
    "colab": {},
    "colab_type": "code",
    "executionInfo": {
     "elapsed": 809,
     "status": "ok",
     "timestamp": 1597202821686,
     "user": {
      "displayName": "Shigemi Ishida",
      "photoUrl": "",
      "userId": "02742666860524119242"
     },
     "user_tz": -540
    },
    "id": "nlvFooL4tD1S"
   },
   "outputs": [],
   "source": [
    "block_size = 3"
   ]
  },
  {
   "cell_type": "code",
   "execution_count": 4,
   "metadata": {
    "colab": {
     "base_uri": "https://localhost:8080/",
     "height": 68
    },
    "colab_type": "code",
    "executionInfo": {
     "elapsed": 805,
     "status": "ok",
     "timestamp": 1597202821687,
     "user": {
      "displayName": "Shigemi Ishida",
      "photoUrl": "",
      "userId": "02742666860524119242"
     },
     "user_tz": -540
    },
    "id": "L9wEBY04tD1V",
    "outputId": "7c9d7e1b-7eba-4402-fb95-c3498049dcaf"
   },
   "outputs": [
    {
     "data": {
      "text/plain": [
       "array([[53.55555556, 49.22222222, 55.22222222],\n",
       "       [50.11111111, 56.22222222, 33.55555556],\n",
       "       [47.66666667, 42.11111111, 65.77777778]])"
      ]
     },
     "execution_count": 4,
     "metadata": {},
     "output_type": "execute_result"
    }
   ],
   "source": [
    "result = np.empty([block_size, block_size])\n",
    "for x in range(block_size):\n",
    "    for y in range(block_size):\n",
    "        sub_mat = matrix[(x*3):(x+1)*3,(y*3):(y+1)*3]\n",
    "        result[x,y] = np.mean(sub_mat)\n",
    "result"
   ]
  },
  {
   "cell_type": "code",
   "execution_count": 5,
   "metadata": {
    "colab": {
     "base_uri": "https://localhost:8080/",
     "height": 68
    },
    "colab_type": "code",
    "executionInfo": {
     "elapsed": 800,
     "status": "ok",
     "timestamp": 1597202821687,
     "user": {
      "displayName": "Shigemi Ishida",
      "photoUrl": "",
      "userId": "02742666860524119242"
     },
     "user_tz": -540
    },
    "id": "yulJRSLStD1X",
    "outputId": "4f3b9483-1d51-4190-d4c6-b8053d8db503"
   },
   "outputs": [
    {
     "name": "stdout",
     "output_type": "stream",
     "text": [
      "   53.56   49.22   55.22\n",
      "   50.11   56.22   33.56\n",
      "   47.67   42.11   65.78\n"
     ]
    }
   ],
   "source": [
    "for x in range(block_size):\n",
    "    for y in range(block_size):\n",
    "        print(\"{:8.2f}\".format(result[x,y]), end=\"\")\n",
    "    print()"
   ]
  },
  {
   "cell_type": "markdown",
   "metadata": {
    "colab_type": "text",
    "id": "640AH85ItD1Z"
   },
   "source": [
    "### numpyの表示オプションを変更する裏技"
   ]
  },
  {
   "cell_type": "code",
   "execution_count": 6,
   "metadata": {
    "colab": {
     "base_uri": "https://localhost:8080/",
     "height": 204
    },
    "colab_type": "code",
    "executionInfo": {
     "elapsed": 797,
     "status": "ok",
     "timestamp": 1597202821688,
     "user": {
      "displayName": "Shigemi Ishida",
      "photoUrl": "",
      "userId": "02742666860524119242"
     },
     "user_tz": -540
    },
    "id": "Gb5hUTeYtD1Z",
    "outputId": "e3a31c7d-1452-43fd-ecbc-a672166d25f5"
   },
   "outputs": [
    {
     "data": {
      "text/plain": [
       "{'edgeitems': 3,\n",
       " 'threshold': 1000,\n",
       " 'floatmode': 'maxprec',\n",
       " 'precision': 8,\n",
       " 'suppress': False,\n",
       " 'linewidth': 75,\n",
       " 'nanstr': 'nan',\n",
       " 'infstr': 'inf',\n",
       " 'sign': '-',\n",
       " 'formatter': None,\n",
       " 'legacy': False}"
      ]
     },
     "execution_count": 6,
     "metadata": {},
     "output_type": "execute_result"
    }
   ],
   "source": [
    "# numpyの表示オプションには以下がある\n",
    "np.get_printoptions()"
   ]
  },
  {
   "cell_type": "code",
   "execution_count": 7,
   "metadata": {
    "colab": {},
    "colab_type": "code",
    "executionInfo": {
     "elapsed": 796,
     "status": "ok",
     "timestamp": 1597202821688,
     "user": {
      "displayName": "Shigemi Ishida",
      "photoUrl": "",
      "userId": "02742666860524119242"
     },
     "user_tz": -540
    },
    "id": "KCJ0us29tD1c"
   },
   "outputs": [],
   "source": [
    "# formatterを設定することで表示桁数を指定できる\n",
    "#   変数がnumpy.float型である場合のprintすべてに影響するので注意\n",
    "#   実際、ここ以降のコードでは小数点以下2桁しか表示されていない\n",
    "np.set_printoptions(formatter={'float': '{:8.2f}'.format})"
   ]
  },
  {
   "cell_type": "code",
   "execution_count": 8,
   "metadata": {
    "colab": {
     "base_uri": "https://localhost:8080/",
     "height": 68
    },
    "colab_type": "code",
    "executionInfo": {
     "elapsed": 791,
     "status": "ok",
     "timestamp": 1597202821688,
     "user": {
      "displayName": "Shigemi Ishida",
      "photoUrl": "",
      "userId": "02742666860524119242"
     },
     "user_tz": -540
    },
    "id": "5Y9QkbkBtD1e",
    "outputId": "048a6941-a0b8-4af3-eebb-b1aff84c635a"
   },
   "outputs": [
    {
     "name": "stdout",
     "output_type": "stream",
     "text": [
      "[[   53.56    49.22    55.22]\n",
      " [   50.11    56.22    33.56]\n",
      " [   47.67    42.11    65.78]]\n"
     ]
    }
   ],
   "source": [
    "# オプションを設定したらprintするだけ\n",
    "print(result)"
   ]
  },
  {
   "cell_type": "markdown",
   "metadata": {
    "colab_type": "text",
    "id": "c3ZUGnTctD1f"
   },
   "source": [
    "## 発展問題"
   ]
  },
  {
   "cell_type": "code",
   "execution_count": 9,
   "metadata": {
    "colab": {},
    "colab_type": "code",
    "executionInfo": {
     "elapsed": 790,
     "status": "ok",
     "timestamp": 1597202821688,
     "user": {
      "displayName": "Shigemi Ishida",
      "photoUrl": "",
      "userId": "02742666860524119242"
     },
     "user_tz": -540
    },
    "id": "Hh49P6FRtD1g"
   },
   "outputs": [],
   "source": [
    "result = np.empty([block_size, block_size])"
   ]
  },
  {
   "cell_type": "markdown",
   "metadata": {
    "colab_type": "text",
    "id": "ks1ebtI9tD1h"
   },
   "source": [
    "### np.meanの場合"
   ]
  },
  {
   "cell_type": "code",
   "execution_count": 10,
   "metadata": {
    "colab": {
     "base_uri": "https://localhost:8080/",
     "height": 34
    },
    "colab_type": "code",
    "executionInfo": {
     "elapsed": 4214,
     "status": "ok",
     "timestamp": 1597202825117,
     "user": {
      "displayName": "Shigemi Ishida",
      "photoUrl": "",
      "userId": "02742666860524119242"
     },
     "user_tz": -540
    },
    "id": "TBKNhvprtD1h",
    "outputId": "b20c96f2-2f77-4d2a-eafc-3a43f83043f5"
   },
   "outputs": [
    {
     "name": "stdout",
     "output_type": "stream",
     "text": [
      "77.5 µs ± 669 ns per loop (mean ± std. dev. of 7 runs, 10000 loops each)\n"
     ]
    }
   ],
   "source": [
    "%%timeit\n",
    "# google colabでは問題ないのだが、jupyterでは%%timeitはセルの最初の行に書かないとダメ\n",
    "for x in range(block_size):\n",
    "    for y in range(block_size):\n",
    "        result[x,y] = np.mean(matrix[(x*3):(x+1)*3,(y*3):(y+1)*3])"
   ]
  },
  {
   "cell_type": "code",
   "execution_count": 11,
   "metadata": {
    "colab": {
     "base_uri": "https://localhost:8080/",
     "height": 68
    },
    "colab_type": "code",
    "executionInfo": {
     "elapsed": 4210,
     "status": "ok",
     "timestamp": 1597202825117,
     "user": {
      "displayName": "Shigemi Ishida",
      "photoUrl": "",
      "userId": "02742666860524119242"
     },
     "user_tz": -540
    },
    "id": "Z1el6OhZtD1j",
    "outputId": "ed2f671d-9c94-48fc-d5e7-d76e408f92b2"
   },
   "outputs": [
    {
     "data": {
      "text/plain": [
       "array([[   53.56,    49.22,    55.22],\n",
       "       [   50.11,    56.22,    33.56],\n",
       "       [   47.67,    42.11,    65.78]])"
      ]
     },
     "execution_count": 11,
     "metadata": {},
     "output_type": "execute_result"
    }
   ],
   "source": [
    "result"
   ]
  },
  {
   "cell_type": "markdown",
   "metadata": {
    "colab_type": "text",
    "id": "t_-OC1q9tD1k"
   },
   "source": [
    "### for文の場合\n",
    "任意のblock_sizeで動くように全部for文で書くとこうなる"
   ]
  },
  {
   "cell_type": "code",
   "execution_count": 12,
   "metadata": {
    "colab": {
     "base_uri": "https://localhost:8080/",
     "height": 34
    },
    "colab_type": "code",
    "executionInfo": {
     "elapsed": 7463,
     "status": "ok",
     "timestamp": 1597202828375,
     "user": {
      "displayName": "Shigemi Ishida",
      "photoUrl": "",
      "userId": "02742666860524119242"
     },
     "user_tz": -540
    },
    "id": "l13mCRvotD1l",
    "outputId": "221b907b-29bb-4063-91af-9d9ce4e2f405"
   },
   "outputs": [
    {
     "name": "stdout",
     "output_type": "stream",
     "text": [
      "64.6 µs ± 880 ns per loop (mean ± std. dev. of 7 runs, 10000 loops each)\n"
     ]
    }
   ],
   "source": [
    "%%timeit\n",
    "result = np.zeros([block_size, block_size])\n",
    "for x in range(block_size):\n",
    "    for y in range(block_size):\n",
    "        sub_mat = matrix[(x*3):(x+1)*3,(y*3):(y+1)*3]\n",
    "        for i in range(block_size):\n",
    "            for j in range(block_size):\n",
    "                result[x,y] += sub_mat[i,j]\n",
    "        result[x,y] /= block_size**2"
   ]
  },
  {
   "cell_type": "code",
   "execution_count": 13,
   "metadata": {
    "colab": {
     "base_uri": "https://localhost:8080/",
     "height": 68
    },
    "colab_type": "code",
    "executionInfo": {
     "elapsed": 7458,
     "status": "ok",
     "timestamp": 1597202828375,
     "user": {
      "displayName": "Shigemi Ishida",
      "photoUrl": "",
      "userId": "02742666860524119242"
     },
     "user_tz": -540
    },
    "id": "Bj0cBznCtD1m",
    "outputId": "d825433c-ace9-409a-f8b5-9f6950423171"
   },
   "outputs": [
    {
     "data": {
      "text/plain": [
       "array([[   53.56,    49.22,    55.22],\n",
       "       [   50.11,    56.22,    33.56],\n",
       "       [   47.67,    42.11,    65.78]])"
      ]
     },
     "execution_count": 13,
     "metadata": {},
     "output_type": "execute_result"
    }
   ],
   "source": [
    "result"
   ]
  },
  {
   "cell_type": "markdown",
   "metadata": {
    "colab_type": "text",
    "id": "xajm1WY3tD1n"
   },
   "source": [
    "### for文を全く使わない場合"
   ]
  },
  {
   "cell_type": "code",
   "execution_count": 14,
   "metadata": {
    "colab": {
     "base_uri": "https://localhost:8080/",
     "height": 170
    },
    "colab_type": "code",
    "executionInfo": {
     "elapsed": 7453,
     "status": "ok",
     "timestamp": 1597202828375,
     "user": {
      "displayName": "Shigemi Ishida",
      "photoUrl": "",
      "userId": "02742666860524119242"
     },
     "user_tz": -540
    },
    "id": "is-bccgktD1o",
    "outputId": "2d25bc77-13d6-4672-a8d0-ca7ced70b967"
   },
   "outputs": [
    {
     "data": {
      "text/plain": [
       "array([[43, 57, 22, 80,  8, 86, 99, 56, 88],\n",
       "       [26, 67, 92, 44, 92,  2,  9, 70,  4],\n",
       "       [62, 18, 95, 23, 54, 54, 84, 64, 23],\n",
       "       [68, 91, 59, 41, 78,  5, 73, 12, 38],\n",
       "       [ 8, 64, 53, 86, 53, 41,  7, 63, 25],\n",
       "       [ 9, 16, 83, 95, 12, 95, 24,  2, 58],\n",
       "       [86, 39,  7, 79, 80, 19, 79, 97, 24],\n",
       "       [51, 85, 28, 57, 56, 17, 74, 87,  4],\n",
       "       [ 8, 66, 59, 15, 48,  8, 77, 92, 58]])"
      ]
     },
     "execution_count": 14,
     "metadata": {},
     "output_type": "execute_result"
    }
   ],
   "source": [
    "matrix"
   ]
  },
  {
   "cell_type": "code",
   "execution_count": 15,
   "metadata": {
    "colab": {
     "base_uri": "https://localhost:8080/",
     "height": 51
    },
    "colab_type": "code",
    "executionInfo": {
     "elapsed": 12859,
     "status": "ok",
     "timestamp": 1597202833786,
     "user": {
      "displayName": "Shigemi Ishida",
      "photoUrl": "",
      "userId": "02742666860524119242"
     },
     "user_tz": -540
    },
    "id": "-DU_FvzltD1p",
    "outputId": "b35cc9ba-ce32-4a3e-bd47-948a6d035a8b"
   },
   "outputs": [
    {
     "name": "stdout",
     "output_type": "stream",
     "text": [
      "12.5 µs ± 84.5 ns per loop (mean ± std. dev. of 7 runs, 100000 loops each)\n"
     ]
    }
   ],
   "source": [
    "%%timeit\n",
    "sub_mats = matrix.reshape(-1,3,3).transpose(1,0,2).reshape(-1,3,3)\n",
    "result = np.mean(sub_mats, axis=(1,2)).reshape(-1,3).T"
   ]
  },
  {
   "cell_type": "code",
   "execution_count": 16,
   "metadata": {
    "colab": {
     "base_uri": "https://localhost:8080/",
     "height": 68
    },
    "colab_type": "code",
    "executionInfo": {
     "elapsed": 12854,
     "status": "ok",
     "timestamp": 1597202833786,
     "user": {
      "displayName": "Shigemi Ishida",
      "photoUrl": "",
      "userId": "02742666860524119242"
     },
     "user_tz": -540
    },
    "id": "ziCR2453tD1q",
    "outputId": "7df54619-1047-4507-8c54-37f1734495eb"
   },
   "outputs": [
    {
     "data": {
      "text/plain": [
       "array([[   53.56,    49.22,    55.22],\n",
       "       [   50.11,    56.22,    33.56],\n",
       "       [   47.67,    42.11,    65.78]])"
      ]
     },
     "execution_count": 16,
     "metadata": {},
     "output_type": "execute_result"
    }
   ],
   "source": [
    "result"
   ]
  },
  {
   "cell_type": "markdown",
   "metadata": {
    "colab_type": "text",
    "id": "7MEwCWiAtD1r"
   },
   "source": [
    "### こっちの方が速いかも？"
   ]
  },
  {
   "cell_type": "code",
   "execution_count": 17,
   "metadata": {
    "colab": {
     "base_uri": "https://localhost:8080/",
     "height": 51
    },
    "colab_type": "code",
    "executionInfo": {
     "elapsed": 17429,
     "status": "ok",
     "timestamp": 1597202838366,
     "user": {
      "displayName": "Shigemi Ishida",
      "photoUrl": "",
      "userId": "02742666860524119242"
     },
     "user_tz": -540
    },
    "id": "F19arfFztD1r",
    "outputId": "5afd9290-21a7-4f47-b8e3-feb745c77277"
   },
   "outputs": [
    {
     "name": "stdout",
     "output_type": "stream",
     "text": [
      "10.6 µs ± 55.5 ns per loop (mean ± std. dev. of 7 runs, 100000 loops each)\n"
     ]
    }
   ],
   "source": [
    "%%timeit\n",
    "# 行列を代入しないで直接平均値を計算して結果を代入\n",
    "result = matrix.reshape(-1,3,3,3).transpose(0,2,1,3).mean(axis=(2,3))"
   ]
  },
  {
   "cell_type": "code",
   "execution_count": 18,
   "metadata": {
    "colab": {
     "base_uri": "https://localhost:8080/",
     "height": 68
    },
    "colab_type": "code",
    "executionInfo": {
     "elapsed": 17424,
     "status": "ok",
     "timestamp": 1597202838366,
     "user": {
      "displayName": "Shigemi Ishida",
      "photoUrl": "",
      "userId": "02742666860524119242"
     },
     "user_tz": -540
    },
    "id": "yWurxzw4tD1t",
    "outputId": "aea04d31-af2e-40bb-f447-5f6cf2b24026"
   },
   "outputs": [
    {
     "data": {
      "text/plain": [
       "array([[   53.56,    49.22,    55.22],\n",
       "       [   50.11,    56.22,    33.56],\n",
       "       [   47.67,    42.11,    65.78]])"
      ]
     },
     "execution_count": 18,
     "metadata": {},
     "output_type": "execute_result"
    }
   ],
   "source": [
    "result"
   ]
  }
 ],
 "metadata": {
  "colab": {
   "name": "exe09.ipynb",
   "provenance": []
  },
  "kernelspec": {
   "display_name": "Python 3",
   "language": "python",
   "name": "python3"
  },
  "language_info": {
   "codemirror_mode": {
    "name": "ipython",
    "version": 3
   },
   "file_extension": ".py",
   "mimetype": "text/x-python",
   "name": "python",
   "nbconvert_exporter": "python",
   "pygments_lexer": "ipython3",
   "version": "3.8.5"
  }
 },
 "nbformat": 4,
 "nbformat_minor": 4
}
