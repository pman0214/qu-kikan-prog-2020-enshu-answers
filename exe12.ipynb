{
 "cells": [
  {
   "cell_type": "markdown",
   "metadata": {},
   "source": [
    "## 演習問題"
   ]
  },
  {
   "cell_type": "code",
   "execution_count": 1,
   "metadata": {},
   "outputs": [],
   "source": [
    "# 演習問題からコピペした画像データ\n",
    "img_data = np.array([\n",
    "    [204,187,204,204,221,221,221,238,238,255,255,238,204,170,170,187,204,204,204,204,204,204,187,187],\n",
    "    [153,153,136,136,153,170,170,170,170,187,204,170,153,153,153,170,170,170,187,187,187,187,170,170],\n",
    "    [153,153,153,136,136,153,153,153,170,170,170,170,153,153,153,153,153,153,153,153,153,153,153,153],\n",
    "    [153,153,153,153,153,153,153,153,153,153,153,153,153,153,136,136,136,153,153,153,153,153,153,153],\n",
    "    [153,153,153,170,170,170,187,187,187,221,238,221,187,170,170,170,170,170,170,170,170,170,170,170],\n",
    "    [170,170,170,170,170,170,153,170,187,221,255,238,187,170,170,170,170,170,170,170,170,170,153,153],\n",
    "    [170,170,170,170,170,136,102,119,136,153,204,204,170,136,68,68,68,136,136,153,153,153,153,153],\n",
    "    [153,153,170,153,153,119,17,34,34,34,34,51,68,51,34,51,51,51,51,68,68,85,102,102],\n",
    "    [136,153,102,34,34,17,17,0,17,34,34,34,34,51,51,34,51,34,51,68,68,68,68,68],\n",
    "    [51,51,51,17,0,17,34,34,34,34,34,34,34,34,34,51,34,34,34,34,34,51,51,34],\n",
    "    [17,34,34,34,51,51,51,51,34,51,34,34,34,51,51,51,51,51,34,34,34,34,17,17],\n",
    "    [51,51,51,68,51,51,51,51,51,51,68,51,51,68,51,51,34,34,34,34,34,17,17,34],\n",
    "    [51,51,51,51,34,34,34,34,34,51,34,34,34,34,34,34,34,34,51,51,34,51,51,51],\n",
    "    [34,34,51,34,34,51,51,34,34,34,34,34,51,51,34,51,51,51,51,51,51,51,51,34],\n",
    "    [34,34,51,34,34,34,34,34,51,51,51,51,51,51,51,34,34,34,34,34,34,34,34,17],\n",
    "    [34,34,51,68,51,51,51,51,51,51,68,68,68,51,51,51,51,51,34,34,34,17,17,34],\n",
    "    [34,51,51,68,51,34,17,17,17,17,34,34,34,34,34,34,51,51,51,51,51,34,34,34],\n",
    "    [51,34,34,51,68,85,51,17,17,17,0,0,17,17,17,17,17,17,34,34,34,34,51,34],\n",
    "], dtype=np.uint8)"
   ]
  },
  {
   "cell_type": "code",
   "execution_count": 2,
   "metadata": {},
   "outputs": [],
   "source": [
    "def smooth_image(block_size, block_loc, img):\n",
    "    topx = block_loc[0]\n",
    "    topy = block_loc[1]\n",
    "    # x, yそれぞれについて(topx, topy)の位置からblock_size分を取り出し、\n",
    "    # すべてを平均して、整数にして返却\n",
    "    # intの代わりにnp.roundなどを使っても良い（結果は変わるけど・・・）\n",
    "    return int(np.mean(img[topx:topx+block_size, topy:topy+block_size]))"
   ]
  },
  {
   "cell_type": "markdown",
   "metadata": {},
   "source": [
    "### いくつか取り出して試してみる"
   ]
  },
  {
   "cell_type": "code",
   "execution_count": 3,
   "metadata": {},
   "outputs": [
    {
     "name": "stdout",
     "output_type": "stream",
     "text": [
      "166\n"
     ]
    },
    {
     "data": {
      "text/plain": [
       "166.22222222222223"
      ]
     },
     "execution_count": 3,
     "metadata": {},
     "output_type": "execute_result"
    }
   ],
   "source": [
    "print(smooth_image(3, [0,0], img_data))\n",
    "# データを見ながら手動で計算\n",
    "(204+187+204 + 153+153+136 + 153+153+153) / 9"
   ]
  },
  {
   "cell_type": "code",
   "execution_count": 4,
   "metadata": {},
   "outputs": [
    {
     "name": "stdout",
     "output_type": "stream",
     "text": [
      "153\n"
     ]
    },
    {
     "data": {
      "text/plain": [
       "153.0"
      ]
     },
     "execution_count": 4,
     "metadata": {},
     "output_type": "execute_result"
    }
   ],
   "source": [
    "print(smooth_image(3, [2,1], img_data))\n",
    "(153+153+136 + 153+153+153 + 153+153+170) / 9"
   ]
  },
  {
   "cell_type": "markdown",
   "metadata": {},
   "source": [
    "### 全データに適用"
   ]
  },
  {
   "cell_type": "code",
   "execution_count": 5,
   "metadata": {},
   "outputs": [],
   "source": [
    "block_size = 3"
   ]
  },
  {
   "cell_type": "code",
   "execution_count": 6,
   "metadata": {},
   "outputs": [
    {
     "name": "stdout",
     "output_type": "stream",
     "text": [
      "[[166 170 187 202 162 173 181 173]\n",
      " [158 164 170 205 166 160 164 160]\n",
      " [153 109  52  86  73  60  90 105]\n",
      " [ 43  37  43  43  45  43  34  30]\n",
      " [ 43  37  37  41  43  39  43  41]\n",
      " [ 41  58  32  32  35  37  39  32]]\n"
     ]
    }
   ],
   "source": [
    "# 結果格納用の変数を用意\n",
    "#   用意しなくてもいいが、用意した方が速く動作する\n",
    "#   img_dataのx, yをそれぞれblock_sizeで除したものが平均後のサイズ\n",
    "result = np.empty((np.array(img_data.shape) / block_size).astype(np.int), dtype=np.uint8)\n",
    "\n",
    "# x, yは結果格納用変数のサイズでloop\n",
    "for x in range(result.shape[0]):\n",
    "    for y in range(result.shape[1]):\n",
    "        # あとは位置を指定してsmooth_imageを呼び出すだけ\n",
    "        result[x,y] = smooth_image(block_size, [x*block_size,y*block_size], img_data)\n",
    "\n",
    "print(result)"
   ]
  },
  {
   "cell_type": "markdown",
   "metadata": {},
   "source": [
    "## 発展問題"
   ]
  },
  {
   "cell_type": "code",
   "execution_count": 7,
   "metadata": {},
   "outputs": [],
   "source": [
    "def smooth_image_ext(block_size, block_loc, img):\n",
    "    topx = block_loc[0]\n",
    "    topy = block_loc[1]\n",
    "\n",
    "    # 画像サイズ外の場所を指定されたらエラー\n",
    "    if topx < 0 or topy < 0 or topx >= img.shape[0] or topy >= img.shape[1]:\n",
    "        return np.nan\n",
    "\n",
    "    # 画像の端ではみ出す場合は端を基準にする\n",
    "    # 右端\n",
    "    if topx + block_size >= img.shape[0]:\n",
    "        topx = img.shape[0] - block_size\n",
    "    # 下端\n",
    "    if topy + block_size >= img.shape[1]:\n",
    "        topy = img.shape[1] - block_size\n",
    "\n",
    "    # 平均化処理は演習問題と同じ，intの代わりにnp.roundなどを使っても良い（結果は変わるけど・・・）\n",
    "    return int(np.mean(img[topx:topx+block_size, topy:topy+block_size]))"
   ]
  },
  {
   "cell_type": "markdown",
   "metadata": {},
   "source": [
    "### いくつか取り出して試してみる"
   ]
  },
  {
   "cell_type": "code",
   "execution_count": 8,
   "metadata": {},
   "outputs": [
    {
     "name": "stdout",
     "output_type": "stream",
     "text": [
      "37\n"
     ]
    }
   ],
   "source": [
    "print(smooth_image_ext(4, [12,20], img_data))"
   ]
  },
  {
   "cell_type": "code",
   "execution_count": 9,
   "metadata": {},
   "outputs": [
    {
     "name": "stdout",
     "output_type": "stream",
     "text": [
      "[[34 51 51 51]\n",
      " [51 51 51 34]\n",
      " [34 34 34 17]\n",
      " [34 17 17 34]]\n"
     ]
    },
    {
     "data": {
      "text/plain": [
       "37.1875"
      ]
     },
     "execution_count": 9,
     "metadata": {},
     "output_type": "execute_result"
    }
   ],
   "source": [
    "print(img_data[12:16,20:24])\n",
    "np.mean(img_data[12:16,20:24])"
   ]
  },
  {
   "cell_type": "code",
   "execution_count": 10,
   "metadata": {},
   "outputs": [
    {
     "data": {
      "text/plain": [
       "161"
      ]
     },
     "execution_count": 10,
     "metadata": {},
     "output_type": "execute_result"
    }
   ],
   "source": [
    "smooth_image_ext(4, [0,0], img_data)"
   ]
  },
  {
   "cell_type": "code",
   "execution_count": 11,
   "metadata": {},
   "outputs": [
    {
     "name": "stdout",
     "output_type": "stream",
     "text": [
      "[[204 187 204 204]\n",
      " [153 153 136 136]\n",
      " [153 153 153 136]\n",
      " [153 153 153 153]]\n"
     ]
    },
    {
     "data": {
      "text/plain": [
       "161.5"
      ]
     },
     "execution_count": 11,
     "metadata": {},
     "output_type": "execute_result"
    }
   ],
   "source": [
    "print(img_data[0:4,0:4])\n",
    "np.mean(img_data[0:4,0:4])"
   ]
  },
  {
   "cell_type": "markdown",
   "metadata": {},
   "source": [
    "### 全体に適用"
   ]
  },
  {
   "cell_type": "markdown",
   "metadata": {},
   "source": [
    "#### block_size = 4のとき"
   ]
  },
  {
   "cell_type": "code",
   "execution_count": 12,
   "metadata": {},
   "outputs": [
    {
     "name": "stdout",
     "output_type": "stream",
     "text": [
      "[[161 173 188 159 171 170]\n",
      " [163 139 163 127 129 143]\n",
      " [ 58  35  39  45  40  40]\n",
      " [ 43  40  45  45  42  37]\n",
      " [ 44  42  36  38  38  32]]\n"
     ]
    }
   ],
   "source": [
    "block_size = 4\n",
    "result = np.empty((np.ceil(np.array(img_data.shape) / block_size)).astype(np.int), dtype=np.uint8)\n",
    "for x in range(result.shape[0]):\n",
    "    for y in range(result.shape[1]):\n",
    "        result[x,y] = smooth_image_ext(block_size, [x*block_size,y*block_size], img_data)\n",
    "print(result)"
   ]
  },
  {
   "cell_type": "markdown",
   "metadata": {},
   "source": [
    "#### block_size = 5のとき"
   ]
  },
  {
   "cell_type": "code",
   "execution_count": 13,
   "metadata": {},
   "outputs": [
    {
     "name": "stdout",
     "output_type": "stream",
     "text": [
      "[[161 182 176 169 170]\n",
      " [124  80  96  84 102]\n",
      " [ 42  43  44  41  36]\n",
      " [ 44  38  39  40  36]]\n"
     ]
    }
   ],
   "source": [
    "block_size = 5\n",
    "result = np.empty((np.ceil(np.array(img_data.shape) / block_size)).astype(np.int), dtype=np.uint8)\n",
    "for x in range(result.shape[0]):\n",
    "    for y in range(result.shape[1]):\n",
    "        result[x,y] = smooth_image_ext(block_size, [x*block_size,y*block_size], img_data)\n",
    "print(result)"
   ]
  },
  {
   "cell_type": "code",
   "execution_count": null,
   "metadata": {},
   "outputs": [],
   "source": []
  }
 ],
 "metadata": {
  "kernelspec": {
   "display_name": "Python 3",
   "language": "python",
   "name": "python3"
  },
  "language_info": {
   "codemirror_mode": {
    "name": "ipython",
    "version": 3
   },
   "file_extension": ".py",
   "mimetype": "text/x-python",
   "name": "python",
   "nbconvert_exporter": "python",
   "pygments_lexer": "ipython3",
   "version": "3.8.5"
  }
 },
 "nbformat": 4,
 "nbformat_minor": 4
}
