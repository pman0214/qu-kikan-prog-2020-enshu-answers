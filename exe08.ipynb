{
 "cells": [
  {
   "cell_type": "markdown",
   "metadata": {},
   "source": [
    "## 演習問題\n",
    "見づらいですが、コードを変更せずに実行しています"
   ]
  },
  {
   "cell_type": "markdown",
   "metadata": {},
   "source": [
    "### 画像サイズ: trial 1"
   ]
  },
  {
   "cell_type": "code",
   "execution_count": 1,
   "metadata": {},
   "outputs": [
    {
     "name": "stdin",
     "output_type": "stream",
     "text": [
      "画像サイズを入力してください:  -10 1\n"
     ]
    },
    {
     "data": {
      "text/plain": [
       "['-10', '1']"
      ]
     },
     "execution_count": 1,
     "metadata": {},
     "output_type": "execute_result"
    }
   ],
   "source": [
    "img_size_str = input(\"画像サイズを入力してください: \")\n",
    "# ' 'で分解\n",
    "img_size_str = img_size_str.split(\" \")\n",
    "img_size_str"
   ]
  },
  {
   "cell_type": "code",
   "execution_count": 2,
   "metadata": {},
   "outputs": [],
   "source": [
    "# 画像サイズをチェック\n",
    "on_error = False\n",
    "if len(img_size_str) < 2:\n",
    "    print(\"画像サイズが不正です\")\n",
    "    on_error = True"
   ]
  },
  {
   "cell_type": "code",
   "execution_count": 3,
   "metadata": {},
   "outputs": [
    {
     "name": "stdout",
     "output_type": "stream",
     "text": [
      "画像サイズが不正です\n"
     ]
    }
   ],
   "source": [
    "img_size = []\n",
    "# numpyを使って数字であるかどうかをチェック\n",
    "import numpy as np\n",
    "if not on_error:\n",
    "    if not all(np.char.isnumeric(img_size_str)):\n",
    "        print(\"画像サイズが不正です\")\n",
    "        on_error = True\n",
    "    else:\n",
    "        img_size = np.array(list(map(int, img_size_str)))\n",
    "        if not all(img_size > 0):\n",
    "            print(\"画像サイズが不正です\")\n",
    "            on_error = True"
   ]
  },
  {
   "cell_type": "markdown",
   "metadata": {},
   "source": [
    "### 画像サイズ: trial 2"
   ]
  },
  {
   "cell_type": "code",
   "execution_count": 4,
   "metadata": {},
   "outputs": [
    {
     "name": "stdin",
     "output_type": "stream",
     "text": [
      "画像サイズを入力してください:  512 abc\n"
     ]
    },
    {
     "data": {
      "text/plain": [
       "['512', 'abc']"
      ]
     },
     "execution_count": 4,
     "metadata": {},
     "output_type": "execute_result"
    }
   ],
   "source": [
    "img_size_str = input(\"画像サイズを入力してください: \")\n",
    "# ' 'で分解\n",
    "img_size_str = img_size_str.split(\" \")\n",
    "img_size_str"
   ]
  },
  {
   "cell_type": "code",
   "execution_count": 5,
   "metadata": {},
   "outputs": [],
   "source": [
    "# 画像サイズをチェック\n",
    "on_error = False\n",
    "if len(img_size_str) < 2:\n",
    "    print(\"画像サイズが不正です\")\n",
    "    on_error = True"
   ]
  },
  {
   "cell_type": "code",
   "execution_count": 6,
   "metadata": {},
   "outputs": [
    {
     "name": "stdout",
     "output_type": "stream",
     "text": [
      "画像サイズが不正です\n"
     ]
    }
   ],
   "source": [
    "img_size = []\n",
    "# numpyを使って数字であるかどうかをチェック\n",
    "import numpy as np\n",
    "if not on_error:\n",
    "    if not all(np.char.isnumeric(img_size_str)):\n",
    "        print(\"画像サイズが不正です\")\n",
    "        on_error = True\n",
    "    else:\n",
    "        img_size = np.array(list(map(int, img_size_str)))\n",
    "        if not all(img_size > 0):\n",
    "            print(\"画像サイズが不正です\")\n",
    "            on_error = True"
   ]
  },
  {
   "cell_type": "markdown",
   "metadata": {},
   "source": [
    "### 画像サイズ: trial 3 (正常パターン)"
   ]
  },
  {
   "cell_type": "code",
   "execution_count": 7,
   "metadata": {},
   "outputs": [
    {
     "name": "stdin",
     "output_type": "stream",
     "text": [
      "画像サイズを入力してください:  512 480\n"
     ]
    },
    {
     "data": {
      "text/plain": [
       "['512', '480']"
      ]
     },
     "execution_count": 7,
     "metadata": {},
     "output_type": "execute_result"
    }
   ],
   "source": [
    "img_size_str = input(\"画像サイズを入力してください: \")\n",
    "# ' 'で分解\n",
    "img_size_str = img_size_str.split(\" \")\n",
    "img_size_str"
   ]
  },
  {
   "cell_type": "code",
   "execution_count": 8,
   "metadata": {},
   "outputs": [],
   "source": [
    "# 画像サイズをチェック\n",
    "on_error = False\n",
    "if len(img_size_str) < 2:\n",
    "    print(\"画像サイズが不正です\")\n",
    "    on_error = True"
   ]
  },
  {
   "cell_type": "code",
   "execution_count": 9,
   "metadata": {},
   "outputs": [],
   "source": [
    "img_size = []\n",
    "# numpyを使って数字であるかどうかをチェック\n",
    "import numpy as np\n",
    "if not on_error:\n",
    "    if not all(np.char.isnumeric(img_size_str)):\n",
    "        print(\"画像サイズが不正です\")\n",
    "        on_error = True\n",
    "    else:\n",
    "        img_size = np.array(list(map(int, img_size_str)))\n",
    "        if not all(img_size > 0):\n",
    "            print(\"画像サイズが不正です\")\n",
    "            on_error = True"
   ]
  },
  {
   "cell_type": "markdown",
   "metadata": {},
   "source": [
    "### ブロックサイズ: trial 1"
   ]
  },
  {
   "cell_type": "code",
   "execution_count": 10,
   "metadata": {},
   "outputs": [
    {
     "name": "stdin",
     "output_type": "stream",
     "text": [
      "block_sizeを入力してください:  0\n"
     ]
    },
    {
     "name": "stdout",
     "output_type": "stream",
     "text": [
      "block_sizeが不正です\n"
     ]
    }
   ],
   "source": [
    "block_size = 0\n",
    "# 画像サイズエラーでない場合のみ続行\n",
    "if not on_error:\n",
    "    block_size_str = input(\"block_sizeを入力してください: \")\n",
    "    if not np.char.isnumeric(block_size_str):\n",
    "        print(\"block_sizeが不正です\")\n",
    "        on_error = True\n",
    "    elif int(block_size_str) <= 0:\n",
    "        print(\"block_sizeが不正です\")\n",
    "        on_error = True\n",
    "    else:\n",
    "        block_size = int(block_size_str)\n",
    "\n",
    "if not on_error:\n",
    "    print(\"画像サイズ: {0[0]}x{0[1]}、block_size: {1}\".format(img_size, block_size))"
   ]
  },
  {
   "cell_type": "markdown",
   "metadata": {},
   "source": [
    "### ブロックサイズ: trial 2 (正常パターン)"
   ]
  },
  {
   "cell_type": "code",
   "execution_count": 11,
   "metadata": {},
   "outputs": [],
   "source": [
    "# 擬似的にtrial 1のエラーを無効化\n",
    "on_error = False"
   ]
  },
  {
   "cell_type": "code",
   "execution_count": 12,
   "metadata": {},
   "outputs": [
    {
     "name": "stdin",
     "output_type": "stream",
     "text": [
      "block_sizeを入力してください:  10\n"
     ]
    },
    {
     "name": "stdout",
     "output_type": "stream",
     "text": [
      "画像サイズ: 512x480、block_size: 10\n"
     ]
    }
   ],
   "source": [
    "block_size = 0\n",
    "# 画像サイズエラーでない場合のみ続行\n",
    "if not on_error:\n",
    "    block_size_str = input(\"block_sizeを入力してください: \")\n",
    "    if not np.char.isnumeric(block_size_str):\n",
    "        print(\"block_sizeが不正です\")\n",
    "        on_error = True\n",
    "    elif int(block_size_str) <= 0:\n",
    "        print(\"block_sizeが不正です\")\n",
    "        on_error = True\n",
    "    else:\n",
    "        block_size = int(block_size_str)\n",
    "\n",
    "if not on_error:\n",
    "    print(\"画像サイズ: {0[0]}x{0[1]}、block_size: {1}\".format(img_size, block_size))"
   ]
  },
  {
   "cell_type": "markdown",
   "metadata": {},
   "source": [
    "### 見やすくするために関数にしてまとめて実行してみます"
   ]
  },
  {
   "cell_type": "code",
   "execution_count": 13,
   "metadata": {},
   "outputs": [],
   "source": [
    "# ↑で書いた処理を全部連結して関数にしただけ\n",
    "def input_img_block_size():\n",
    "    img_size_str = input(\"画像サイズを入力してください: \")\n",
    "    # ' 'で分解\n",
    "    img_size_str = img_size_str.split(\" \")\n",
    "    img_size_str\n",
    "\n",
    "    # 画像サイズをチェック\n",
    "    on_error = False\n",
    "    if len(img_size_str) < 2:\n",
    "        print(\"画像サイズが不正です\")\n",
    "        on_error = True\n",
    "\n",
    "    img_size = []\n",
    "    # numpyを使って数字であるかどうかをチェック\n",
    "    import numpy as np\n",
    "    if not on_error:\n",
    "        if not all(np.char.isnumeric(img_size_str)):\n",
    "            print(\"画像サイズが不正です\")\n",
    "            on_error = True\n",
    "        else:\n",
    "            img_size = np.array(list(map(int, img_size_str)))\n",
    "            if not all(img_size > 0):\n",
    "                print(\"画像サイズが不正です\")\n",
    "                on_error = True\n",
    "\n",
    "    block_size = 0\n",
    "    # 画像サイズエラーでない場合のみ続行\n",
    "    if not on_error:\n",
    "        block_size_str = input(\"block_sizeを入力してください: \")\n",
    "        if not np.char.isnumeric(block_size_str):\n",
    "            print(\"block_sizeが不正です\")\n",
    "            on_error = True\n",
    "        elif int(block_size_str) <= 0:\n",
    "            print(\"block_sizeが不正です\")\n",
    "            on_error = True\n",
    "        else:\n",
    "            block_size = int(block_size_str)\n",
    "\n",
    "    if not on_error:\n",
    "        print(\"画像サイズ: {0[0]}x{0[1]}、block_size: {1}\".format(img_size, block_size))"
   ]
  },
  {
   "cell_type": "code",
   "execution_count": 15,
   "metadata": {},
   "outputs": [
    {
     "name": "stdin",
     "output_type": "stream",
     "text": [
      "画像サイズを入力してください:  -10 1\n"
     ]
    },
    {
     "name": "stdout",
     "output_type": "stream",
     "text": [
      "画像サイズが不正です\n"
     ]
    }
   ],
   "source": [
    "input_img_block_size()"
   ]
  },
  {
   "cell_type": "code",
   "execution_count": 16,
   "metadata": {},
   "outputs": [
    {
     "name": "stdin",
     "output_type": "stream",
     "text": [
      "画像サイズを入力してください:  512 abc\n"
     ]
    },
    {
     "name": "stdout",
     "output_type": "stream",
     "text": [
      "画像サイズが不正です\n"
     ]
    }
   ],
   "source": [
    "input_img_block_size()"
   ]
  },
  {
   "cell_type": "code",
   "execution_count": 17,
   "metadata": {},
   "outputs": [
    {
     "name": "stdin",
     "output_type": "stream",
     "text": [
      "画像サイズを入力してください:  512 480\n",
      "block_sizeを入力してください:  0\n"
     ]
    },
    {
     "name": "stdout",
     "output_type": "stream",
     "text": [
      "block_sizeが不正です\n"
     ]
    }
   ],
   "source": [
    "input_img_block_size()"
   ]
  },
  {
   "cell_type": "code",
   "execution_count": 18,
   "metadata": {},
   "outputs": [
    {
     "name": "stdin",
     "output_type": "stream",
     "text": [
      "画像サイズを入力してください:  512 480\n",
      "block_sizeを入力してください:  10\n"
     ]
    },
    {
     "name": "stdout",
     "output_type": "stream",
     "text": [
      "画像サイズ: 512x480、block_size: 10\n"
     ]
    }
   ],
   "source": [
    "input_img_block_size()"
   ]
  },
  {
   "cell_type": "markdown",
   "metadata": {},
   "source": [
    "## 発展問題\n",
    "見づらいので関数化して実行します"
   ]
  },
  {
   "cell_type": "code",
   "execution_count": 19,
   "metadata": {},
   "outputs": [],
   "source": [
    "def remaining_pixel_check():\n",
    "    img_size_str = input(\"画像サイズを入力してください: \")\n",
    "    # ' 'で分解\n",
    "    img_size_str = img_size_str.split(\" \")\n",
    "    img_size_str\n",
    "\n",
    "    # 画像サイズをチェック\n",
    "    on_error = False\n",
    "    if len(img_size_str) < 2:\n",
    "        print(\"画像サイズが不正です\")\n",
    "        on_error = True\n",
    "\n",
    "    img_size = []\n",
    "    # numpyを使って数字であるかどうかをチェック\n",
    "    import numpy as np\n",
    "    if not on_error:\n",
    "        if not all(np.char.isnumeric(img_size_str)):\n",
    "            print(\"画像サイズが不正です\")\n",
    "            on_error = True\n",
    "        else:\n",
    "            img_size = np.array(list(map(int, img_size_str)))\n",
    "            if not all(img_size > 0):\n",
    "                print(\"画像サイズが不正です\")\n",
    "                on_error = True\n",
    "\n",
    "    block_size = 0\n",
    "    # 画像サイズエラーでない場合のみ続行\n",
    "    if not on_error:\n",
    "        block_size_str = input(\"block_sizeを入力してください: \")\n",
    "        if not np.char.isnumeric(block_size_str):\n",
    "            print(\"block_sizeが不正です\")\n",
    "            on_error = True\n",
    "        elif int(block_size_str) <= 0:\n",
    "            print(\"block_sizeが不正です\")\n",
    "            on_error = True\n",
    "        else:\n",
    "            block_size = int(block_size_str)\n",
    "\n",
    "    if not on_error:\n",
    "        print(\"画像サイズ: {0[0]}x{0[1]}、block_size: {1}\".format(img_size, block_size))\n",
    "\n",
    "    # モザイク処理をしたときの余り画素数を計算\n",
    "    if not on_error:\n",
    "        remain_pixels = img_size % block_size\n",
    "        if remain_pixels[0] != 0:\n",
    "            print(\"横の余り: {:d}ピクセル\".format(remain_pixels[0]))\n",
    "        if remain_pixels[1] != 0:\n",
    "            print(\"縦の余り: {:d}ピクセル\".format(remain_pixels[1]))"
   ]
  },
  {
   "cell_type": "code",
   "execution_count": 20,
   "metadata": {},
   "outputs": [
    {
     "name": "stdin",
     "output_type": "stream",
     "text": [
      "画像サイズを入力してください:  580 125\n",
      "block_sizeを入力してください:  10\n"
     ]
    },
    {
     "name": "stdout",
     "output_type": "stream",
     "text": [
      "画像サイズ: 580x125、block_size: 10\n",
      "縦の余り: 5ピクセル\n"
     ]
    }
   ],
   "source": [
    "remaining_pixel_check()"
   ]
  },
  {
   "cell_type": "code",
   "execution_count": 21,
   "metadata": {},
   "outputs": [
    {
     "name": "stdin",
     "output_type": "stream",
     "text": [
      "画像サイズを入力してください:  580 125\n",
      "block_sizeを入力してください:  15\n"
     ]
    },
    {
     "name": "stdout",
     "output_type": "stream",
     "text": [
      "画像サイズ: 580x125、block_size: 15\n",
      "横の余り: 10ピクセル\n",
      "縦の余り: 5ピクセル\n"
     ]
    }
   ],
   "source": [
    "remaining_pixel_check()"
   ]
  },
  {
   "cell_type": "code",
   "execution_count": 22,
   "metadata": {},
   "outputs": [
    {
     "name": "stdin",
     "output_type": "stream",
     "text": [
      "画像サイズを入力してください:  580 125\n",
      "block_sizeを入力してください:  5\n"
     ]
    },
    {
     "name": "stdout",
     "output_type": "stream",
     "text": [
      "画像サイズ: 580x125、block_size: 5\n"
     ]
    }
   ],
   "source": [
    "remaining_pixel_check()"
   ]
  }
 ],
 "metadata": {
  "kernelspec": {
   "display_name": "Python 3",
   "language": "python",
   "name": "python3"
  },
  "language_info": {
   "codemirror_mode": {
    "name": "ipython",
    "version": 3
   },
   "file_extension": ".py",
   "mimetype": "text/x-python",
   "name": "python",
   "nbconvert_exporter": "python",
   "pygments_lexer": "ipython3",
   "version": "3.7.6"
  }
 },
 "nbformat": 4,
 "nbformat_minor": 4
}
